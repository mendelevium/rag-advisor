{
 "cells": [
  {
   "cell_type": "code",
   "execution_count": 1,
   "metadata": {},
   "outputs": [
    {
     "name": "stderr",
     "output_type": "stream",
     "text": [
      "/Users/bobbybidon/git/rag-advisor/.conda/lib/python3.11/site-packages/pinecone/data/index.py:1: TqdmWarning: IProgress not found. Please update jupyter and ipywidgets. See https://ipywidgets.readthedocs.io/en/stable/user_install.html\n",
      "  from tqdm.autonotebook import tqdm\n"
     ]
    }
   ],
   "source": [
    "from haystack.components.writers import DocumentWriter\n",
    "from haystack.components.preprocessors import DocumentCleaner\n",
    "from haystack import Pipeline\n",
    "\n",
    "\n",
    "from haystack_integrations.document_stores.pinecone import PineconeDocumentStore\n",
    "from haystack_integrations.components.embedders.cohere.document_embedder import CohereDocumentEmbedder\n",
    "\n",
    "document_store = PineconeDocumentStore(\n",
    "  index=\"prototype\",\n",
    "  metric=\"cosine\",\n",
    "  dimension=384,\n",
    "  spec={\"serverless\": {\"region\": \"us-east-1\", \"cloud\": \"aws\"}},\n",
    "  )\n"
   ]
  },
  {
   "cell_type": "code",
   "execution_count": 2,
   "metadata": {},
   "outputs": [],
   "source": [
    "document_embedder = CohereDocumentEmbedder(model=\"embed-multilingual-light-v3.0\", input_type=\"search_document\")\n",
    "document_writer = DocumentWriter(document_store)\n",
    "document_cleaner = DocumentCleaner()\n"
   ]
  },
  {
   "cell_type": "code",
   "execution_count": 4,
   "metadata": {},
   "outputs": [],
   "source": [
    "preprocessing_pipeline = Pipeline()\n",
    "preprocessing_pipeline.add_component(instance=document_cleaner, name=\"document_cleaner\")\n",
    "preprocessing_pipeline.add_component(instance=document_embedder, name=\"document_embedder\")\n",
    "preprocessing_pipeline.add_component(instance=document_writer, name=\"document_writer\")\n",
    "\n",
    "preprocessing_pipeline.connect(\"document_cleaner\", \"document_embedder\")\n",
    "preprocessing_pipeline.connect(\"document_embedder\", \"document_writer\")"
   ]
  },
  {
   "cell_type": "code",
   "execution_count": 13,
   "metadata": {},
   "outputs": [
    {
     "name": "stderr",
     "output_type": "stream",
     "text": [
      "Calculating embeddings: 100%|██████████| 6/6 [00:02<00:00,  2.87it/s]\n",
      "Upserted vectors: 100%|██████████| 178/178 [00:02<00:00, 68.55it/s]\n"
     ]
    },
    {
     "data": {
      "text/plain": [
       "{'document_embedder': {'meta': ApiMeta(api_version=ApiMetaApiVersion(version='1', is_deprecated=None, is_experimental=None), billed_units=ApiMetaBilledUnits(input_tokens=3648.0, output_tokens=None, search_units=None, classifications=None), tokens=None, warnings=[])},\n",
       " 'document_writer': {'documents_written': 178}}"
      ]
     },
     "execution_count": 13,
     "metadata": {},
     "output_type": "execute_result"
    }
   ],
   "source": [
    "from pathlib import Path\n",
    "from haystack import Document\n",
    "\n",
    "\n",
    "output = \"../data/summaries.txt\"\n",
    "with open('../data/summaries.txt', 'r', encoding='utf-8') as f:\n",
    "    sum_list = eval(f.read())\n",
    "\n",
    "documents = [Document(content=summary) for summary in sum_list]\n",
    "\n",
    "preprocessing_pipeline.run({\"document_cleaner\": {\"documents\": documents}})\n"
   ]
  }
 ],
 "metadata": {
  "kernelspec": {
   "display_name": "Python 3",
   "language": "python",
   "name": "python3"
  },
  "language_info": {
   "codemirror_mode": {
    "name": "ipython",
    "version": 3
   },
   "file_extension": ".py",
   "mimetype": "text/x-python",
   "name": "python",
   "nbconvert_exporter": "python",
   "pygments_lexer": "ipython3",
   "version": "3.11.10"
  }
 },
 "nbformat": 4,
 "nbformat_minor": 2
}
